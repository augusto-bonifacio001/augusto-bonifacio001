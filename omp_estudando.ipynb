{
  "nbformat": 4,
  "nbformat_minor": 0,
  "metadata": {
    "colab": {
      "provenance": [],
      "authorship_tag": "ABX9TyMzMvmNpQB10cyf9gZRe+LS",
      "include_colab_link": true
    },
    "kernelspec": {
      "name": "python3",
      "display_name": "Python 3"
    },
    "language_info": {
      "name": "python"
    }
  },
  "cells": [
    {
      "cell_type": "markdown",
      "metadata": {
        "id": "view-in-github",
        "colab_type": "text"
      },
      "source": [
        "<a href=\"https://colab.research.google.com/github/augusto-bonifacio001/augusto-bonifacio001/blob/main/omp_estudando.ipynb\" target=\"_parent\"><img src=\"https://colab.research.google.com/assets/colab-badge.svg\" alt=\"Open In Colab\"/></a>"
      ]
    },
    {
      "cell_type": "code",
      "execution_count": 4,
      "metadata": {
        "colab": {
          "base_uri": "https://localhost:8080/"
        },
        "id": "Lszb-F3ZjzqY",
        "outputId": "af7cd7e3-e76e-49d7-cfed-ddec1468e813"
      },
      "outputs": [
        {
          "output_type": "stream",
          "name": "stdout",
          "text": [
            "Erro: 3.610289331801372e-15\n"
          ]
        }
      ],
      "source": [
        "# @title\n",
        "import numpy as np\n",
        "\n",
        "def omp(Phi, y, s, epsilon=1e-6):\n",
        "  \"\"\"\n",
        "  parâmetros:\n",
        "  Phi- matriz de medição(m x n)\n",
        "  y- vetor de medições (m x 1)\n",
        "  s- esparsidade esperada (número de não-zeros)\n",
        "\n",
        "  retona:\n",
        "  x- vetor estimado (n x 1)\n",
        "  \"\"\"\n",
        "\n",
        "  # inicialização\n",
        "\n",
        "  m, n = Phi.shape    # obtém as dimensões da matriz Phi\n",
        "  r = y.copy()        # r == y (resíduo inicial igual às medições)\n",
        "  S = []              # S == 0 ( conjutno vazio de índices ativos)\n",
        "  x = np.zeros        # inicializa o vetor solução com zeros\n",
        "\n",
        "  # loop principal (executa no máximo s iterações)\n",
        "\n",
        "  for k in range(s):\n",
        "    # passo 1: encontrar a coluna de Phi que melhor explica o resíduo\n",
        "    correlations = np.abs(Phi.T @ r) # calcula correlações entre Phi e o resíduo\n",
        "    j = np.argmax(correlations) # encontra o índice da maior correlação\n",
        "\n",
        "    # passo 2: adicionar o índice ao conjunto ativo (evitando duplicados)\n",
        "\n",
        "    if j not in S:\n",
        "      S.append(j)\n",
        "    else:\n",
        "      break\n",
        "\n",
        "    # passo 3 : resolver o problema de mínimos quadrados apenas com as colunas selecionadas\n",
        "\n",
        "    Phi_S = Phi[:, S] # submatriz apenas com as colunas ativas\n",
        "    x_S = np.linalg.pinv(Phi_S) @ y #solução de mínimos quadrados\n",
        "\n",
        "    # passo 4: atualizar o resíduo:\n",
        "\n",
        "    r = y - Phi_S @ x_S\n",
        "\n",
        "    # passo 5: verificar critério de parada:\n",
        "\n",
        "    if np.linalg.norm(r) < epsilon:\n",
        "      break\n",
        "\n",
        "\n",
        "  # construir a solução final apenas com os valores encontrados:\n",
        "  x = np.zeros(n)\n",
        "  x[S] = x_S\n",
        "\n",
        "\n",
        "  return x\n",
        "\n",
        "  # exemplo de uso\n",
        "m = 50 # número de medições\n",
        "n = 100 # dimensão original do sinal\n",
        "s = 10 # esparsidade\n",
        "\n",
        "  # cria uma matriz de medição aleatória\n",
        "\n",
        "Phi = np.random.randn(m, n)\n",
        "\n",
        "  # cria um vetor esparso sintético\n",
        "\n",
        "x_true = np.zeros(n)\n",
        "x_true[np.random.choice(n, s, replace=False)] = np.random.randn(s)\n",
        "\n",
        "  # gera as medições\n",
        "\n",
        "y = Phi @ x_true\n",
        "\n",
        "  # executa o OMP:\n",
        "\n",
        "x_est = omp(Phi, y, s)\n",
        "\n",
        "  # verifica o resultado\n",
        "print(\"Erro:\", np.linalg.norm(x_true - x_est))\n"
      ]
    },
    {
      "cell_type": "code",
      "source": [
        "import numpy as np\n",
        "\n",
        "def omp(Phi, y, s, epsilon=1e-6):\n",
        "    \"\"\"\n",
        "    parâmetros:\n",
        "    Phi - matriz de medição (m x n)\n",
        "    y - vetor de medições (m x 1)\n",
        "    s - esparsidade esperada (número de não-zeros)\n",
        "\n",
        "    retorna:\n",
        "    x - vetor estimado (n x 1)\n",
        "    \"\"\"\n",
        "    # inicialização\n",
        "    m, n = Phi.shape\n",
        "    r = y.copy()\n",
        "    S = []\n",
        "    x = np.zeros(n)  # Corrigido: precisa especificar a dimensão (n)\n",
        "\n",
        "    # loop principal\n",
        "    for k in range(s):\n",
        "        # passo 1: encontrar melhor coluna\n",
        "        correlations = np.abs(Phi.T @ r)\n",
        "        j = np.argmax(correlations)\n",
        "\n",
        "        # passo 2: adicionar índice\n",
        "        if j not in S:\n",
        "            S.append(j)\n",
        "        else:\n",
        "            break\n",
        "\n",
        "        # passo 3: resolver mínimos quadrados\n",
        "        Phi_S = Phi[:, S]\n",
        "        x_S = np.linalg.pinv(Phi_S) @ y\n",
        "\n",
        "        # passo 4: atualizar resíduo\n",
        "        r = y - Phi_S @ x_S\n",
        "\n",
        "        # passo 5: verificar critério de parada\n",
        "        if np.linalg.norm(r) < epsilon:\n",
        "            break\n",
        "\n",
        "    # construir solução final\n",
        "    x = np.zeros(n)  # Recria o vetor para garantir dimensão correta\n",
        "    x[S] = x_S\n",
        "\n",
        "    return x\n",
        "\n",
        "# Exemplo de uso (FORA da função)\n",
        "m = 50  # número de medições\n",
        "n = 100  # dimensão original do sinal\n",
        "s = 10  # esparsidade\n",
        "\n",
        "# cria matriz de medição aleatória\n",
        "Phi = np.random.randn(m, n)\n",
        "\n",
        "# cria vetor esparso sintético\n",
        "x_true = np.zeros(n)\n",
        "x_true[np.random.choice(n, s, replace=False)] = np.random.randn(s)\n",
        "\n",
        "# gera as medições\n",
        "y = Phi @ x_true\n",
        "\n",
        "# executa o OMP\n",
        "x_est = omp(Phi, y, s)\n",
        "\n",
        "# verifica o resultado\n",
        "print(\"Erro:\", np.linalg.norm(x_true - x_est))\n",
        "print(\"Vetor verdadeiro (não-zeros):\", x_true[np.where(x_true != 0)])\n",
        "print(\"Vetor estimado (não-zeros):\", x_est[np.where(x_est != 0)])"
      ],
      "metadata": {
        "colab": {
          "base_uri": "https://localhost:8080/"
        },
        "id": "tcH32-UwkHWK",
        "outputId": "8f297cae-78c8-4ad1-c65b-861ce13e9a01"
      },
      "execution_count": 2,
      "outputs": [
        {
          "output_type": "stream",
          "name": "stdout",
          "text": [
            "Erro: 2.3921377574803994e-15\n",
            "Vetor verdadeiro (não-zeros): [ 0.41344857  0.38642445  0.82944518 -0.72449043  0.94685847 -0.83153813\n",
            " -0.91118752 -0.58579775 -0.84166702  0.52403552]\n",
            "Vetor estimado (não-zeros): [ 0.41344857  0.38642445  0.82944518 -0.72449043  0.94685847 -0.83153813\n",
            " -0.91118752 -0.58579775 -0.84166702  0.52403552]\n"
          ]
        }
      ]
    }
  ]
}